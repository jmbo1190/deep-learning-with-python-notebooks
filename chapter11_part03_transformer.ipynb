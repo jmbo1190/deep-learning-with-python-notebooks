{
 "cells": [
  {
   "cell_type": "markdown",
   "metadata": {
    "colab_type": "text"
   },
   "source": [
    "This is a companion notebook for the book [Deep Learning with Python, Second Edition](https://www.manning.com/books/deep-learning-with-python-second-edition?a_aid=keras&a_bid=76564dff). For readability, it only contains runnable code blocks and section titles, and omits everything else in the book: text paragraphs, figures, and pseudocode.\n",
    "\n",
    "**If you want to be able to follow what's going on, I recommend reading the notebook side by side with your copy of the book.**\n",
    "\n",
    "This notebook was generated for TensorFlow 2.6."
   ]
  },
  {
   "cell_type": "markdown",
   "metadata": {
    "colab_type": "text"
   },
   "source": [
    "## The Transformer architecture"
   ]
  },
  {
   "cell_type": "markdown",
   "metadata": {
    "colab_type": "text"
   },
   "source": [
    "### Understanding self-attention"
   ]
  },
  {
   "cell_type": "markdown",
   "metadata": {
    "colab_type": "text"
   },
   "source": [
    "#### Generalized self-attention: the query-key-value model"
   ]
  },
  {
   "cell_type": "markdown",
   "metadata": {
    "colab_type": "text"
   },
   "source": [
    "### Multi-head attention"
   ]
  },
  {
   "cell_type": "markdown",
   "metadata": {
    "colab_type": "text"
   },
   "source": [
    "### The Transformer encoder"
   ]
  },
  {
   "cell_type": "markdown",
   "metadata": {
    "colab_type": "text"
   },
   "source": [
    "**Getting the data**"
   ]
  },
  {
   "cell_type": "code",
   "execution_count": 1,
   "metadata": {
    "colab_type": "code",
    "execution": {
     "iopub.execute_input": "2021-12-10T21:55:43.304136Z",
     "iopub.status.busy": "2021-12-10T21:55:43.303273Z",
     "iopub.status.idle": "2021-12-10T21:55:48.340850Z",
     "shell.execute_reply": "2021-12-10T21:55:48.340344Z"
    }
   },
   "outputs": [],
   "source": [
    "![ ! -e aclImdb_v1.tar.gz ] && curl -O https://ai.stanford.edu/~amaas/data/sentiment/aclImdb_v1.tar.gz\n",
    "![ -d aclImdb ] && rm -r aclImdb/\n",
    "!tar -xf aclImdb_v1.tar.gz\n",
    "!rm -r aclImdb/train/unsup"
   ]
  },
  {
   "cell_type": "markdown",
   "metadata": {
    "colab_type": "text"
   },
   "source": [
    "**Preparing the data**"
   ]
  },
  {
   "cell_type": "code",
   "execution_count": 2,
   "metadata": {
    "colab_type": "code",
    "execution": {
     "iopub.execute_input": "2021-12-10T21:55:48.347474Z",
     "iopub.status.busy": "2021-12-10T21:55:48.347002Z",
     "iopub.status.idle": "2021-12-10T21:55:58.581332Z",
     "shell.execute_reply": "2021-12-10T21:55:58.581736Z"
    }
   },
   "outputs": [
    {
     "name": "stdout",
     "output_type": "stream",
     "text": [
      "Found 20000 files belonging to 2 classes.\n"
     ]
    },
    {
     "name": "stderr",
     "output_type": "stream",
     "text": [
      "2021-12-10 21:55:55.448495: I tensorflow/core/platform/cpu_feature_guard.cc:151] This TensorFlow binary is optimized with oneAPI Deep Neural Network Library (oneDNN) to use the following CPU instructions in performance-critical operations:  AVX2 FMA\n",
      "To enable them in other operations, rebuild TensorFlow with the appropriate compiler flags.\n",
      "2021-12-10 21:55:57.545718: I tensorflow/core/common_runtime/gpu/gpu_device.cc:1525] Created device /job:localhost/replica:0/task:0/device:GPU:0 with 7429 MB memory:  -> device: 0, name: Tesla M60, pci bus id: 0001:00:00.0, compute capability: 5.2\n",
      "2021-12-10 21:55:57.547216: I tensorflow/core/common_runtime/gpu/gpu_device.cc:1525] Created device /job:localhost/replica:0/task:0/device:GPU:1 with 7429 MB memory:  -> device: 1, name: Tesla M60, pci bus id: 0002:00:00.0, compute capability: 5.2\n",
      "2021-12-10 21:55:57.548009: I tensorflow/core/common_runtime/gpu/gpu_device.cc:1525] Created device /job:localhost/replica:0/task:0/device:GPU:2 with 7429 MB memory:  -> device: 2, name: Tesla M60, pci bus id: 0003:00:00.0, compute capability: 5.2\n",
      "2021-12-10 21:55:57.549312: I tensorflow/core/common_runtime/gpu/gpu_device.cc:1525] Created device /job:localhost/replica:0/task:0/device:GPU:3 with 7429 MB memory:  -> device: 3, name: Tesla M60, pci bus id: 0004:00:00.0, compute capability: 5.2\n"
     ]
    },
    {
     "name": "stdout",
     "output_type": "stream",
     "text": [
      "Found 5000 files belonging to 2 classes.\n",
      "Found 25000 files belonging to 2 classes.\n"
     ]
    }
   ],
   "source": [
    "import os, pathlib, shutil, random\n",
    "from tensorflow import keras\n",
    "batch_size = 32\n",
    "base_dir = pathlib.Path(\"aclImdb\")\n",
    "val_dir = base_dir / \"val\"\n",
    "train_dir = base_dir / \"train\"\n",
    "for category in (\"neg\", \"pos\"):\n",
    "    os.makedirs(val_dir / category)\n",
    "    files = os.listdir(train_dir / category)\n",
    "    random.Random(1337).shuffle(files)\n",
    "    num_val_samples = int(0.2 * len(files))\n",
    "    val_files = files[-num_val_samples:]\n",
    "    for fname in val_files:\n",
    "        shutil.move(train_dir / category / fname,\n",
    "                    val_dir / category / fname)\n",
    "\n",
    "train_ds = keras.utils.text_dataset_from_directory(\n",
    "    \"aclImdb/train\", batch_size=batch_size\n",
    ")\n",
    "val_ds = keras.utils.text_dataset_from_directory(\n",
    "    \"aclImdb/val\", batch_size=batch_size\n",
    ")\n",
    "test_ds = keras.utils.text_dataset_from_directory(\n",
    "    \"aclImdb/test\", batch_size=batch_size\n",
    ")\n",
    "text_only_train_ds = train_ds.map(lambda x, y: x)"
   ]
  },
  {
   "cell_type": "markdown",
   "metadata": {
    "colab_type": "text"
   },
   "source": [
    "**Vectorizing the data**"
   ]
  },
  {
   "cell_type": "code",
   "execution_count": 3,
   "metadata": {
    "colab_type": "code",
    "execution": {
     "iopub.execute_input": "2021-12-10T21:55:58.587375Z",
     "iopub.status.busy": "2021-12-10T21:55:58.586899Z",
     "iopub.status.idle": "2021-12-10T21:56:00.628504Z",
     "shell.execute_reply": "2021-12-10T21:56:00.628022Z"
    }
   },
   "outputs": [],
   "source": [
    "from tensorflow.keras import layers\n",
    "\n",
    "max_length = 600\n",
    "max_tokens = 20000\n",
    "text_vectorization = layers.TextVectorization(\n",
    "    max_tokens=max_tokens,\n",
    "    output_mode=\"int\",\n",
    "    output_sequence_length=max_length,\n",
    ")\n",
    "text_vectorization.adapt(text_only_train_ds)\n",
    "\n",
    "int_train_ds = train_ds.map(\n",
    "    lambda x, y: (text_vectorization(x), y),\n",
    "    num_parallel_calls=4)\n",
    "int_val_ds = val_ds.map(\n",
    "    lambda x, y: (text_vectorization(x), y),\n",
    "    num_parallel_calls=4)\n",
    "int_test_ds = test_ds.map(\n",
    "    lambda x, y: (text_vectorization(x), y),\n",
    "    num_parallel_calls=4)"
   ]
  },
  {
   "cell_type": "markdown",
   "metadata": {
    "colab_type": "text"
   },
   "source": [
    "**Transformer encoder implemented as a subclassed `Layer`**"
   ]
  },
  {
   "cell_type": "code",
   "execution_count": 4,
   "metadata": {
    "colab_type": "code",
    "execution": {
     "iopub.execute_input": "2021-12-10T21:56:00.635798Z",
     "iopub.status.busy": "2021-12-10T21:56:00.635311Z",
     "iopub.status.idle": "2021-12-10T21:56:00.637517Z",
     "shell.execute_reply": "2021-12-10T21:56:00.637137Z"
    }
   },
   "outputs": [],
   "source": [
    "import tensorflow as tf\n",
    "from tensorflow import keras\n",
    "from tensorflow.keras import layers\n",
    "\n",
    "class TransformerEncoder(layers.Layer):\n",
    "    def __init__(self, embed_dim, dense_dim, num_heads, **kwargs):\n",
    "        super().__init__(**kwargs)\n",
    "        self.embed_dim = embed_dim\n",
    "        self.dense_dim = dense_dim\n",
    "        self.num_heads = num_heads\n",
    "        self.attention = layers.MultiHeadAttention(\n",
    "            num_heads=num_heads, key_dim=embed_dim)\n",
    "        self.dense_proj = keras.Sequential(\n",
    "            [layers.Dense(dense_dim, activation=\"relu\"),\n",
    "             layers.Dense(embed_dim),]\n",
    "        )\n",
    "        self.layernorm_1 = layers.LayerNormalization()\n",
    "        self.layernorm_2 = layers.LayerNormalization()\n",
    "\n",
    "    def call(self, inputs, mask=None):\n",
    "        if mask is not None:\n",
    "            mask = mask[:, tf.newaxis, :]\n",
    "        attention_output = self.attention(\n",
    "            inputs, inputs, attention_mask=mask)\n",
    "        proj_input = self.layernorm_1(inputs + attention_output)\n",
    "        proj_output = self.dense_proj(proj_input)\n",
    "        return self.layernorm_2(proj_input + proj_output)\n",
    "\n",
    "    def get_config(self):\n",
    "        config = super().get_config()\n",
    "        config.update({\n",
    "            \"embed_dim\": self.embed_dim,\n",
    "            \"num_heads\": self.num_heads,\n",
    "            \"dense_dim\": self.dense_dim,\n",
    "        })\n",
    "        return config"
   ]
  },
  {
   "cell_type": "markdown",
   "metadata": {
    "colab_type": "text"
   },
   "source": [
    "**Using the Transformer encoder for text classification**"
   ]
  },
  {
   "cell_type": "code",
   "execution_count": 5,
   "metadata": {
    "colab_type": "code",
    "execution": {
     "iopub.execute_input": "2021-12-10T21:56:00.642695Z",
     "iopub.status.busy": "2021-12-10T21:56:00.640799Z",
     "iopub.status.idle": "2021-12-10T21:56:00.892884Z",
     "shell.execute_reply": "2021-12-10T21:56:00.893255Z"
    }
   },
   "outputs": [
    {
     "name": "stdout",
     "output_type": "stream",
     "text": [
      "Model: \"model\"\n",
      "_________________________________________________________________\n",
      " Layer (type)                Output Shape              Param #   \n",
      "=================================================================\n",
      " input_1 (InputLayer)        [(None, None)]            0         \n",
      "                                                                 \n",
      " embedding (Embedding)       (None, None, 256)         5120000   \n",
      "                                                                 \n",
      " transformer_encoder (Transf  (None, None, 256)        543776    \n",
      " ormerEncoder)                                                   \n",
      "                                                                 \n",
      " global_max_pooling1d (Globa  (None, 256)              0         \n",
      " lMaxPooling1D)                                                  \n",
      "                                                                 \n",
      " dropout (Dropout)           (None, 256)               0         \n",
      "                                                                 \n",
      " dense_2 (Dense)             (None, 1)                 257       \n",
      "                                                                 \n",
      "=================================================================\n",
      "Total params: 5,664,033\n",
      "Trainable params: 5,664,033\n",
      "Non-trainable params: 0\n",
      "_________________________________________________________________\n"
     ]
    }
   ],
   "source": [
    "vocab_size = 20000\n",
    "embed_dim = 256\n",
    "num_heads = 2\n",
    "dense_dim = 32\n",
    "\n",
    "inputs = keras.Input(shape=(None,), dtype=\"int64\")\n",
    "x = layers.Embedding(vocab_size, embed_dim)(inputs)\n",
    "x = TransformerEncoder(embed_dim, dense_dim, num_heads)(x)\n",
    "x = layers.GlobalMaxPooling1D()(x)\n",
    "x = layers.Dropout(0.5)(x)\n",
    "outputs = layers.Dense(1, activation=\"sigmoid\")(x)\n",
    "model = keras.Model(inputs, outputs)\n",
    "model.compile(optimizer=\"rmsprop\",\n",
    "              loss=\"binary_crossentropy\",\n",
    "              metrics=[\"accuracy\"])\n",
    "model.summary()"
   ]
  },
  {
   "cell_type": "markdown",
   "metadata": {
    "colab_type": "text"
   },
   "source": [
    "**Training and evaluating the Transformer encoder based model**"
   ]
  },
  {
   "cell_type": "code",
   "execution_count": 6,
   "metadata": {
    "colab_type": "code",
    "execution": {
     "iopub.execute_input": "2021-12-10T21:56:00.897955Z",
     "iopub.status.busy": "2021-12-10T21:56:00.895452Z",
     "iopub.status.idle": "2021-12-10T22:16:51.537642Z",
     "shell.execute_reply": "2021-12-10T22:16:51.538150Z"
    }
   },
   "outputs": [
    {
     "name": "stdout",
     "output_type": "stream",
     "text": [
      "Epoch 1/20\n"
     ]
    },
    {
     "name": "stderr",
     "output_type": "stream",
     "text": [
      "2021-12-10 21:56:03.112707: I tensorflow/stream_executor/cuda/cuda_dnn.cc:366] Loaded cuDNN version 8301\n"
     ]
    },
    {
     "name": "stdout",
     "output_type": "stream",
     "text": [
      "625/625 [==============================] - 64s 98ms/step - loss: 0.4913 - accuracy: 0.7713 - val_loss: 0.3292 - val_accuracy: 0.8592\n",
      "Epoch 2/20\n",
      "625/625 [==============================] - 61s 97ms/step - loss: 0.3102 - accuracy: 0.8709 - val_loss: 0.3511 - val_accuracy: 0.8508\n",
      "Epoch 3/20\n",
      "625/625 [==============================] - 61s 98ms/step - loss: 0.2412 - accuracy: 0.9028 - val_loss: 0.2903 - val_accuracy: 0.8866\n",
      "Epoch 4/20\n",
      "625/625 [==============================] - 61s 98ms/step - loss: 0.1979 - accuracy: 0.9212 - val_loss: 0.2816 - val_accuracy: 0.8904\n",
      "Epoch 5/20\n",
      "625/625 [==============================] - 61s 97ms/step - loss: 0.1638 - accuracy: 0.9377 - val_loss: 0.3024 - val_accuracy: 0.8834\n",
      "Epoch 6/20\n",
      "625/625 [==============================] - 61s 97ms/step - loss: 0.1393 - accuracy: 0.9474 - val_loss: 0.3445 - val_accuracy: 0.8892\n",
      "Epoch 7/20\n",
      "625/625 [==============================] - 61s 98ms/step - loss: 0.1137 - accuracy: 0.9580 - val_loss: 0.3743 - val_accuracy: 0.8818\n",
      "Epoch 8/20\n",
      "625/625 [==============================] - 61s 98ms/step - loss: 0.0956 - accuracy: 0.9652 - val_loss: 0.4301 - val_accuracy: 0.8772\n",
      "Epoch 9/20\n",
      "625/625 [==============================] - 61s 98ms/step - loss: 0.0774 - accuracy: 0.9722 - val_loss: 0.5633 - val_accuracy: 0.8510\n",
      "Epoch 10/20\n",
      "625/625 [==============================] - 61s 98ms/step - loss: 0.0607 - accuracy: 0.9797 - val_loss: 0.5567 - val_accuracy: 0.8602\n",
      "Epoch 11/20\n",
      "625/625 [==============================] - 61s 98ms/step - loss: 0.0471 - accuracy: 0.9831 - val_loss: 0.5644 - val_accuracy: 0.8544\n",
      "Epoch 12/20\n",
      "625/625 [==============================] - 61s 98ms/step - loss: 0.0370 - accuracy: 0.9872 - val_loss: 0.8147 - val_accuracy: 0.8580\n",
      "Epoch 13/20\n",
      "625/625 [==============================] - 61s 98ms/step - loss: 0.0331 - accuracy: 0.9897 - val_loss: 0.6688 - val_accuracy: 0.8580\n",
      "Epoch 14/20\n",
      "625/625 [==============================] - 61s 98ms/step - loss: 0.0266 - accuracy: 0.9911 - val_loss: 0.8621 - val_accuracy: 0.8442\n",
      "Epoch 15/20\n",
      "625/625 [==============================] - 61s 98ms/step - loss: 0.0205 - accuracy: 0.9931 - val_loss: 1.1259 - val_accuracy: 0.8338\n",
      "Epoch 16/20\n",
      "625/625 [==============================] - 61s 97ms/step - loss: 0.0176 - accuracy: 0.9941 - val_loss: 0.8634 - val_accuracy: 0.8558\n",
      "Epoch 17/20\n",
      "625/625 [==============================] - 61s 97ms/step - loss: 0.0132 - accuracy: 0.9959 - val_loss: 0.8364 - val_accuracy: 0.8536\n",
      "Epoch 18/20\n",
      "625/625 [==============================] - 61s 97ms/step - loss: 0.0124 - accuracy: 0.9968 - val_loss: 1.0118 - val_accuracy: 0.8556\n",
      "Epoch 19/20\n",
      "625/625 [==============================] - 61s 98ms/step - loss: 0.0110 - accuracy: 0.9966 - val_loss: 1.1723 - val_accuracy: 0.8474\n",
      "Epoch 20/20\n",
      "625/625 [==============================] - 61s 98ms/step - loss: 0.0068 - accuracy: 0.9980 - val_loss: 1.1919 - val_accuracy: 0.8518\n",
      "782/782 [==============================] - 27s 34ms/step - loss: 0.3126 - accuracy: 0.8720\n",
      "Test acc: 0.872\n"
     ]
    }
   ],
   "source": [
    "callbacks = [\n",
    "    keras.callbacks.ModelCheckpoint(\"transformer_encoder.keras\",\n",
    "                                    save_best_only=True)\n",
    "]\n",
    "model.fit(int_train_ds, validation_data=int_val_ds, epochs=20, callbacks=callbacks)\n",
    "model = keras.models.load_model(\n",
    "    \"transformer_encoder.keras\",\n",
    "    custom_objects={\"TransformerEncoder\": TransformerEncoder})\n",
    "print(f\"Test acc: {model.evaluate(int_test_ds)[1]:.3f}\")"
   ]
  },
  {
   "cell_type": "markdown",
   "metadata": {
    "colab_type": "text"
   },
   "source": [
    "#### Using positional encoding to re-inject order information"
   ]
  },
  {
   "cell_type": "markdown",
   "metadata": {
    "colab_type": "text"
   },
   "source": [
    "**Implementing positional embedding as a subclassed layer**"
   ]
  },
  {
   "cell_type": "code",
   "execution_count": 7,
   "metadata": {
    "colab_type": "code",
    "execution": {
     "iopub.execute_input": "2021-12-10T22:16:51.546219Z",
     "iopub.status.busy": "2021-12-10T22:16:51.545765Z",
     "iopub.status.idle": "2021-12-10T22:16:51.548072Z",
     "shell.execute_reply": "2021-12-10T22:16:51.548432Z"
    }
   },
   "outputs": [],
   "source": [
    "class PositionalEmbedding(layers.Layer):\n",
    "    def __init__(self, sequence_length, input_dim, output_dim, **kwargs):\n",
    "        super().__init__(**kwargs)\n",
    "        self.token_embeddings = layers.Embedding(\n",
    "            input_dim=input_dim, output_dim=output_dim)\n",
    "        self.position_embeddings = layers.Embedding(\n",
    "            input_dim=sequence_length, output_dim=output_dim)\n",
    "        self.sequence_length = sequence_length\n",
    "        self.input_dim = input_dim\n",
    "        self.output_dim = output_dim\n",
    "\n",
    "    def call(self, inputs):\n",
    "        length = tf.shape(inputs)[-1]\n",
    "        positions = tf.range(start=0, limit=length, delta=1)\n",
    "        embedded_tokens = self.token_embeddings(inputs)\n",
    "        embedded_positions = self.position_embeddings(positions)\n",
    "        return embedded_tokens + embedded_positions\n",
    "\n",
    "    def compute_mask(self, inputs, mask=None):\n",
    "        return tf.math.not_equal(inputs, 0)\n",
    "\n",
    "    def get_config(self):\n",
    "        config = super().get_config()\n",
    "        config.update({\n",
    "            \"output_dim\": self.output_dim,\n",
    "            \"sequence_length\": self.sequence_length,\n",
    "            \"input_dim\": self.input_dim,\n",
    "        })\n",
    "        return config"
   ]
  },
  {
   "cell_type": "markdown",
   "metadata": {
    "colab_type": "text"
   },
   "source": [
    "#### Putting it all together: A text-classification Transformer"
   ]
  },
  {
   "cell_type": "markdown",
   "metadata": {
    "colab_type": "text"
   },
   "source": [
    "**Combining the Transformer encoder with positional embedding**"
   ]
  },
  {
   "cell_type": "code",
   "execution_count": 8,
   "metadata": {
    "colab_type": "code",
    "execution": {
     "iopub.execute_input": "2021-12-10T22:16:51.553319Z",
     "iopub.status.busy": "2021-12-10T22:16:51.552891Z",
     "iopub.status.idle": "2021-12-10T22:38:14.443957Z",
     "shell.execute_reply": "2021-12-10T22:38:14.444497Z"
    }
   },
   "outputs": [
    {
     "name": "stdout",
     "output_type": "stream",
     "text": [
      "Model: \"model_1\"\n",
      "_________________________________________________________________\n",
      " Layer (type)                Output Shape              Param #   \n",
      "=================================================================\n",
      " input_2 (InputLayer)        [(None, None)]            0         \n",
      "                                                                 \n",
      " positional_embedding (Posit  (None, None, 256)        5273600   \n",
      " ionalEmbedding)                                                 \n",
      "                                                                 \n",
      " transformer_encoder_1 (Tran  (None, None, 256)        543776    \n",
      " sformerEncoder)                                                 \n",
      "                                                                 \n",
      " global_max_pooling1d_1 (Glo  (None, 256)              0         \n",
      " balMaxPooling1D)                                                \n",
      "                                                                 \n",
      " dropout_1 (Dropout)         (None, 256)               0         \n",
      "                                                                 \n",
      " dense_7 (Dense)             (None, 1)                 257       \n",
      "                                                                 \n",
      "=================================================================\n",
      "Total params: 5,817,633\n",
      "Trainable params: 5,817,633\n",
      "Non-trainable params: 0\n",
      "_________________________________________________________________\n",
      "Epoch 1/20\n",
      "625/625 [==============================] - 64s 101ms/step - loss: 0.4925 - accuracy: 0.7812 - val_loss: 0.3921 - val_accuracy: 0.8410\n",
      "Epoch 2/20\n",
      "625/625 [==============================] - 63s 101ms/step - loss: 0.2392 - accuracy: 0.9063 - val_loss: 0.2792 - val_accuracy: 0.8912\n",
      "Epoch 3/20\n",
      "625/625 [==============================] - 63s 100ms/step - loss: 0.1835 - accuracy: 0.9312 - val_loss: 0.2866 - val_accuracy: 0.8926\n",
      "Epoch 4/20\n",
      "625/625 [==============================] - 63s 100ms/step - loss: 0.1468 - accuracy: 0.9460 - val_loss: 0.3737 - val_accuracy: 0.8782\n",
      "Epoch 5/20\n",
      "625/625 [==============================] - 63s 100ms/step - loss: 0.1256 - accuracy: 0.9539 - val_loss: 0.3693 - val_accuracy: 0.8684\n",
      "Epoch 6/20\n",
      "625/625 [==============================] - 63s 100ms/step - loss: 0.1168 - accuracy: 0.9588 - val_loss: 0.3566 - val_accuracy: 0.8854\n",
      "Epoch 7/20\n",
      "625/625 [==============================] - 63s 100ms/step - loss: 0.1007 - accuracy: 0.9645 - val_loss: 0.3403 - val_accuracy: 0.8858\n",
      "Epoch 8/20\n",
      "625/625 [==============================] - 63s 100ms/step - loss: 0.0925 - accuracy: 0.9681 - val_loss: 0.3321 - val_accuracy: 0.8824\n",
      "Epoch 9/20\n",
      "625/625 [==============================] - 63s 100ms/step - loss: 0.0822 - accuracy: 0.9715 - val_loss: 0.4113 - val_accuracy: 0.8764\n",
      "Epoch 10/20\n",
      "625/625 [==============================] - 63s 100ms/step - loss: 0.0753 - accuracy: 0.9738 - val_loss: 0.4460 - val_accuracy: 0.8792\n",
      "Epoch 11/20\n",
      "625/625 [==============================] - 63s 100ms/step - loss: 0.0687 - accuracy: 0.9767 - val_loss: 0.4798 - val_accuracy: 0.8742\n",
      "Epoch 12/20\n",
      "625/625 [==============================] - 63s 100ms/step - loss: 0.0646 - accuracy: 0.9786 - val_loss: 0.3982 - val_accuracy: 0.8768\n",
      "Epoch 13/20\n",
      "625/625 [==============================] - 63s 100ms/step - loss: 0.0547 - accuracy: 0.9814 - val_loss: 0.5294 - val_accuracy: 0.8692\n",
      "Epoch 14/20\n",
      "625/625 [==============================] - 63s 100ms/step - loss: 0.0531 - accuracy: 0.9818 - val_loss: 0.3879 - val_accuracy: 0.8786\n",
      "Epoch 15/20\n",
      "625/625 [==============================] - 62s 100ms/step - loss: 0.0491 - accuracy: 0.9833 - val_loss: 0.4740 - val_accuracy: 0.8754\n",
      "Epoch 16/20\n",
      "625/625 [==============================] - 63s 100ms/step - loss: 0.0440 - accuracy: 0.9857 - val_loss: 0.4909 - val_accuracy: 0.8774\n",
      "Epoch 17/20\n",
      "625/625 [==============================] - 63s 100ms/step - loss: 0.0412 - accuracy: 0.9857 - val_loss: 0.5647 - val_accuracy: 0.8562\n",
      "Epoch 18/20\n",
      "625/625 [==============================] - 63s 100ms/step - loss: 0.0370 - accuracy: 0.9876 - val_loss: 0.5799 - val_accuracy: 0.8722\n",
      "Epoch 19/20\n",
      "625/625 [==============================] - 63s 100ms/step - loss: 0.0346 - accuracy: 0.9886 - val_loss: 0.4071 - val_accuracy: 0.8718\n",
      "Epoch 20/20\n",
      "625/625 [==============================] - 63s 100ms/step - loss: 0.0276 - accuracy: 0.9906 - val_loss: 0.5514 - val_accuracy: 0.8716\n",
      "782/782 [==============================] - 28s 36ms/step - loss: 0.3081 - accuracy: 0.8796\n",
      "Test acc: 0.880\n"
     ]
    }
   ],
   "source": [
    "vocab_size = 20000\n",
    "sequence_length = 600\n",
    "embed_dim = 256\n",
    "num_heads = 2\n",
    "dense_dim = 32\n",
    "\n",
    "inputs = keras.Input(shape=(None,), dtype=\"int64\")\n",
    "x = PositionalEmbedding(sequence_length, vocab_size, embed_dim)(inputs)\n",
    "x = TransformerEncoder(embed_dim, dense_dim, num_heads)(x)\n",
    "x = layers.GlobalMaxPooling1D()(x)\n",
    "x = layers.Dropout(0.5)(x)\n",
    "outputs = layers.Dense(1, activation=\"sigmoid\")(x)\n",
    "model = keras.Model(inputs, outputs)\n",
    "model.compile(optimizer=\"rmsprop\",\n",
    "              loss=\"binary_crossentropy\",\n",
    "              metrics=[\"accuracy\"])\n",
    "model.summary()\n",
    "\n",
    "callbacks = [\n",
    "    keras.callbacks.ModelCheckpoint(\"full_transformer_encoder.keras\",\n",
    "                                    save_best_only=True)\n",
    "]\n",
    "model.fit(int_train_ds, validation_data=int_val_ds, epochs=20, callbacks=callbacks)\n",
    "model = keras.models.load_model(\n",
    "    \"full_transformer_encoder.keras\",\n",
    "    custom_objects={\"TransformerEncoder\": TransformerEncoder,\n",
    "                    \"PositionalEmbedding\": PositionalEmbedding})\n",
    "print(f\"Test acc: {model.evaluate(int_test_ds)[1]:.3f}\")"
   ]
  },
  {
   "cell_type": "markdown",
   "metadata": {
    "colab_type": "text"
   },
   "source": [
    "### When to use sequence models over bag-of-words models?"
   ]
  }
 ],
 "metadata": {
  "colab": {
   "collapsed_sections": [],
   "name": "chapter11_part03_transformer.i",
   "private_outputs": false,
   "provenance": [],
   "toc_visible": true
  },
  "kernelspec": {
   "display_name": "Python 3 (ipykernel)",
   "language": "python",
   "name": "python3"
  },
  "language_info": {
   "codemirror_mode": {
    "name": "ipython",
    "version": 3
   },
   "file_extension": ".py",
   "mimetype": "text/x-python",
   "name": "python",
   "nbconvert_exporter": "python",
   "pygments_lexer": "ipython3",
   "version": "3.10.0"
  }
 },
 "nbformat": 4,
 "nbformat_minor": 4
}
